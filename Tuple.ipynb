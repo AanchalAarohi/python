{
 "cells": [
  {
   "cell_type": "code",
   "execution_count": 4,
   "id": "ae4ad14a",
   "metadata": {},
   "outputs": [
    {
     "name": "stdout",
     "output_type": "stream",
     "text": [
      "(1, 2, 3)\n"
     ]
    }
   ],
   "source": [
    "t=()\n",
    "t=(1,2,3)\n",
    "print(t)"
   ]
  },
  {
   "cell_type": "code",
   "execution_count": 6,
   "id": "55c26fc4",
   "metadata": {},
   "outputs": [
    {
     "name": "stdout",
     "output_type": "stream",
     "text": [
      "(1, 'chanu', [1, 'minus', 12, 'aarhi'])\n"
     ]
    }
   ],
   "source": [
    "t=(1,'chanu',[1,'minus',12,'aarhi']) \n",
    "print(t)"
   ]
  },
  {
   "cell_type": "code",
   "execution_count": 9,
   "id": "631f8fd1",
   "metadata": {},
   "outputs": [
    {
     "name": "stdout",
     "output_type": "stream",
     "text": [
      "((1, 'chanu'), [1, 'minus', 12, 'aarhi'])\n"
     ]
    }
   ],
   "source": [
    "t=((1,'chanu'),[1,'minus',12,'aarhi'])\n",
    "print(t)"
   ]
  },
  {
   "cell_type": "code",
   "execution_count": 15,
   "id": "6adf5ac8",
   "metadata": {},
   "outputs": [
    {
     "data": {
      "text/plain": [
       "tuple"
      ]
     },
     "execution_count": 15,
     "metadata": {},
     "output_type": "execute_result"
    }
   ],
   "source": [
    "t= ('ashawanl',)     # if we use , then it will be tuple otherqise it will print string\n",
    "type(t)"
   ]
  },
  {
   "cell_type": "code",
   "execution_count": 18,
   "id": "4b42397a",
   "metadata": {},
   "outputs": [
    {
     "name": "stdout",
     "output_type": "stream",
     "text": [
      "<class 'tuple'>\n",
      "('shivani',)\n"
     ]
    }
   ],
   "source": [
    "t=('shivani',)    #, i9s used to print touple\n",
    "print(type(t))\n",
    "print(t)"
   ]
  },
  {
   "cell_type": "code",
   "execution_count": 20,
   "id": "d7d16041",
   "metadata": {},
   "outputs": [
    {
     "name": "stdout",
     "output_type": "stream",
     "text": [
      "[('shivani', 'minu', 'sonju')]\n",
      "[1]\n"
     ]
    }
   ],
   "source": [
    "t=('shivani','minu','sonju')\n",
    "print([t])"
   ]
  },
  {
   "cell_type": "code",
   "execution_count": 22,
   "id": "e628087d",
   "metadata": {},
   "outputs": [
    {
     "name": "stdout",
     "output_type": "stream",
     "text": [
      "minu\n"
     ]
    }
   ],
   "source": [
    "t=('shivani','minu','sonju')\n",
    "print(t[1])"
   ]
  },
  {
   "cell_type": "code",
   "execution_count": 23,
   "id": "ab983ea4",
   "metadata": {},
   "outputs": [
    {
     "name": "stdout",
     "output_type": "stream",
     "text": [
      "sonju\n"
     ]
    }
   ],
   "source": [
    "print(t[-1])"
   ]
  },
  {
   "cell_type": "code",
   "execution_count": 24,
   "id": "883cbc4c",
   "metadata": {},
   "outputs": [
    {
     "name": "stdout",
     "output_type": "stream",
     "text": [
      "sonju\n"
     ]
    }
   ],
   "source": [
    "print(t[2])"
   ]
  },
  {
   "cell_type": "code",
   "execution_count": 25,
   "id": "3d569cf6",
   "metadata": {},
   "outputs": [
    {
     "name": "stdout",
     "output_type": "stream",
     "text": [
      "('shivani', ('minu', 'sonju'), 'rjjuuu')\n"
     ]
    }
   ],
   "source": [
    "t=('shivani',('minu','sonju'),'rjjuuu')\n",
    "print(t)"
   ]
  },
  {
   "cell_type": "code",
   "execution_count": 26,
   "id": "fa7f7abe",
   "metadata": {},
   "outputs": [
    {
     "name": "stdout",
     "output_type": "stream",
     "text": [
      "(2, 3, 4)\n"
     ]
    }
   ],
   "source": [
    "t=(1,2,3,4,5,6)\n",
    "print(t[1:4])"
   ]
  },
  {
   "cell_type": "code",
   "execution_count": 32,
   "id": "31555060",
   "metadata": {},
   "outputs": [
    {
     "name": "stdout",
     "output_type": "stream",
     "text": [
      "(1,)\n",
      "(1, 2, 3, 4, 5, 6)\n"
     ]
    }
   ],
   "source": [
    "t=(1,2,3,4,5,6)\n",
    "print(t[:-5])\n",
    "print(t[:])"
   ]
  },
  {
   "cell_type": "code",
   "execution_count": 36,
   "id": "856faa2e",
   "metadata": {},
   "outputs": [
    {
     "ename": "IndentationError",
     "evalue": "unexpected indent (1345077404.py, line 2)",
     "output_type": "error",
     "traceback": [
      "\u001b[1;36m  Cell \u001b[1;32mIn[36], line 2\u001b[1;36m\u001b[0m\n\u001b[1;33m    t[2]='x'\u001b[0m\n\u001b[1;37m    ^\u001b[0m\n\u001b[1;31mIndentationError\u001b[0m\u001b[1;31m:\u001b[0m unexpected indent\n"
     ]
    }
   ],
   "source": [
    "t=(1,2,3,4,5,6,[5,6,7])\n",
    "   t[2]='x'     #can not inseert ,because it is immutable"
   ]
  },
  {
   "cell_type": "code",
   "execution_count": 38,
   "id": "7d828a6e",
   "metadata": {},
   "outputs": [
    {
     "ename": "SyntaxError",
     "evalue": "unmatched ']' (1321180019.py, line 2)",
     "output_type": "error",
     "traceback": [
      "\u001b[1;36m  Cell \u001b[1;32mIn[38], line 2\u001b[1;36m\u001b[0m\n\u001b[1;33m    t=[4][1]]=ex\u001b[0m\n\u001b[1;37m            ^\u001b[0m\n\u001b[1;31mSyntaxError\u001b[0m\u001b[1;31m:\u001b[0m unmatched ']'\n"
     ]
    }
   ],
   "source": [
    "t=(1,2,3,[4,5,6])\n",
    "t=[4][1]]=ex\n",
    "print(t)"
   ]
  },
  {
   "cell_type": "code",
   "execution_count": 39,
   "id": "d51312c7",
   "metadata": {},
   "outputs": [
    {
     "name": "stdout",
     "output_type": "stream",
     "text": [
      "(1, 2, 3, 4, 5, 6, 8, 9, 5, 4)\n"
     ]
    }
   ],
   "source": [
    "t1=(1,2,3,4,5,6)\n",
    "t2=(8,9,5,4)\n",
    "print(t1+t2)"
   ]
  },
  {
   "cell_type": "code",
   "execution_count": 41,
   "id": "203d8c2a",
   "metadata": {},
   "outputs": [
    {
     "name": "stdout",
     "output_type": "stream",
     "text": [
      "('kg', 'kg', 'kg', 'kg')\n"
     ]
    }
   ],
   "source": [
    "t=(('kg',)*4)    #reapeting element\n",
    "print(t)"
   ]
  },
  {
   "cell_type": "code",
   "execution_count": 42,
   "id": "11af1ca7",
   "metadata": {},
   "outputs": [],
   "source": [
    "t=(1,2,3,4,5)\n",
    "del(t)"
   ]
  },
  {
   "cell_type": "code",
   "execution_count": 44,
   "id": "be1b1318",
   "metadata": {},
   "outputs": [
    {
     "data": {
      "text/plain": [
       "3"
      ]
     },
     "execution_count": 44,
     "metadata": {},
     "output_type": "execute_result"
    }
   ],
   "source": [
    "t=(1,2,3,4,5,1,5,2,2,3,6)\n",
    "t.count(2)"
   ]
  },
  {
   "cell_type": "code",
   "execution_count": 46,
   "id": "dca49b88",
   "metadata": {},
   "outputs": [
    {
     "name": "stdout",
     "output_type": "stream",
     "text": [
      "10\n"
     ]
    }
   ],
   "source": [
    "t=(1,2,3,4,5,1,5,2,2,3,6)\n",
    "print(t.index(6))    #counting the index number"
   ]
  },
  {
   "cell_type": "code",
   "execution_count": 48,
   "id": "b193c9f5",
   "metadata": {},
   "outputs": [
    {
     "name": "stdout",
     "output_type": "stream",
     "text": [
      "True\n",
      "True\n"
     ]
    }
   ],
   "source": [
    "t=(1,2,3,4,5,1,5,2,2,3,6)\n",
    "print(1 in t)\n",
    "print(5 in t)"
   ]
  },
  {
   "cell_type": "code",
   "execution_count": 50,
   "id": "43cb5189",
   "metadata": {},
   "outputs": [
    {
     "name": "stdout",
     "output_type": "stream",
     "text": [
      "[1, 1, 2, 2, 2, 2, 3, 3, 4, 5, 5, 6, 6, 8]\n"
     ]
    }
   ],
   "source": [
    "t=(1,2,3,6,8,2,4,5,1,5,2,2,3,6)\n",
    "sorted_touple=sorted(t)\n",
    "print(sorted_touple)"
   ]
  },
  {
   "cell_type": "code",
   "execution_count": null,
   "id": "b5753bde",
   "metadata": {},
   "outputs": [],
   "source": []
  }
 ],
 "metadata": {
  "kernelspec": {
   "display_name": "Python 3 (ipykernel)",
   "language": "python",
   "name": "python3"
  },
  "language_info": {
   "codemirror_mode": {
    "name": "ipython",
    "version": 3
   },
   "file_extension": ".py",
   "mimetype": "text/x-python",
   "name": "python",
   "nbconvert_exporter": "python",
   "pygments_lexer": "ipython3",
   "version": "3.10.9"
  }
 },
 "nbformat": 4,
 "nbformat_minor": 5
}
