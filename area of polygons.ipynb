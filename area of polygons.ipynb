{
 "cells": [
  {
   "cell_type": "code",
   "execution_count": 8,
   "id": "258a414d",
   "metadata": {},
   "outputs": [
    {
     "name": "stdout",
     "output_type": "stream",
     "text": [
      "enter the 1st side4\n",
      "enter the 2nd side5\n",
      "enter the 3rd side2\n",
      "3.799671038392666\n"
     ]
    }
   ],
   "source": [
    "a=int(input(\"enter the 1st side\"))\n",
    "b=int(input(\"enter the 2nd side\"))\n",
    "c=int(input(\"enter the 3rd side\"))\n",
    "s=(a+b+c)/2\n",
    "area=(s*(s-a)*(s-b)*(s-c))**0.5\n",
    "print(area)"
   ]
  },
  {
   "cell_type": "code",
   "execution_count": 9,
   "id": "b26668d5",
   "metadata": {},
   "outputs": [
    {
     "name": "stdout",
     "output_type": "stream",
     "text": [
      "enter the 1st side3\n",
      "enter the 2nd side5\n",
      "15\n"
     ]
    }
   ],
   "source": [
    "a=int(input(\"enter the 1st side\"))\n",
    "b=int(input(\"enter the 2nd side\"))\n",
    "area=a*b\n",
    "print(area)"
   ]
  },
  {
   "cell_type": "code",
   "execution_count": 10,
   "id": "3a9cebd5",
   "metadata": {},
   "outputs": [
    {
     "name": "stdout",
     "output_type": "stream",
     "text": [
      "enter the 1st side3\n",
      "9\n"
     ]
    }
   ],
   "source": [
    "a=int(input(\"enter the 1st side\"))\n",
    "area=a**2\n",
    "print(area)"
   ]
  },
  {
   "cell_type": "code",
   "execution_count": 11,
   "id": "24ee69e5",
   "metadata": {},
   "outputs": [
    {
     "name": "stdout",
     "output_type": "stream",
     "text": [
      "enter the radius4\n",
      "50.24\n"
     ]
    }
   ],
   "source": [
    "a=float(input(\"enter the radius\"))\n",
    "area=3.14*a**2\n",
    "print(area)\n"
   ]
  },
  {
   "cell_type": "code",
   "execution_count": 12,
   "id": "d9160179",
   "metadata": {},
   "outputs": [
    {
     "name": "stdout",
     "output_type": "stream",
     "text": [
      "enter the height3\n",
      "enter the base4\n",
      "12\n"
     ]
    }
   ],
   "source": [
    "h=int(input(\"enter the height\"))\n",
    "b=int(input(\"enter the base\"))\n",
    "area=b*h\n",
    "print(area)"
   ]
  },
  {
   "cell_type": "code",
   "execution_count": null,
   "id": "402ccc1b",
   "metadata": {},
   "outputs": [],
   "source": []
  }
 ],
 "metadata": {
  "kernelspec": {
   "display_name": "Python 3 (ipykernel)",
   "language": "python",
   "name": "python3"
  },
  "language_info": {
   "codemirror_mode": {
    "name": "ipython",
    "version": 3
   },
   "file_extension": ".py",
   "mimetype": "text/x-python",
   "name": "python",
   "nbconvert_exporter": "python",
   "pygments_lexer": "ipython3",
   "version": "3.10.9"
  }
 },
 "nbformat": 4,
 "nbformat_minor": 5
}
