{
 "cells": [
  {
   "cell_type": "code",
   "execution_count": 8,
   "id": "567d4b1b",
   "metadata": {},
   "outputs": [
    {
     "name": "stdout",
     "output_type": "stream",
     "text": [
      "Parent is talking\n"
     ]
    }
   ],
   "source": [
    "                                  #multiple inheritance\n",
    "\n",
    "\n",
    "class Brother:\n",
    "    def eat(self):\n",
    "        print(\"brother is eating\")\n",
    "\n",
    "class Broo:\n",
    "    def weep(self):\n",
    "        print(\"bro is weping\")\n",
    "        \n",
    "class Sister:\n",
    "    def lough(self):\n",
    "        print(\"sistr is laughing\")\n",
    "       \n",
    "class Parent(Brother,Broo,Sister):\n",
    "    def talk(self):\n",
    "        print(\"Parent is talking\")\n",
    "        \n",
    "d=Parent()\n",
    "d.talk()\n"
   ]
  },
  {
   "cell_type": "code",
   "execution_count": 10,
   "id": "6f22b302",
   "metadata": {
    "scrolled": true
   },
   "outputs": [
    {
     "name": "stdout",
     "output_type": "stream",
     "text": [
      "dog is barking\n",
      "cat is sleping\n",
      "snake is see\n"
     ]
    }
   ],
   "source": [
    "                                      #multilevel inheritance\n",
    "\n",
    "\n",
    "\n",
    "class Dog:\n",
    "    def bark(self):\n",
    "        print(\"dog is barking\")\n",
    "        \n",
    "class Cat:\n",
    "    def sleep(self):\n",
    "        print(\"cat is sleping\")\n",
    "        \n",
    "class Snake:\n",
    "    def see(self):\n",
    "        print(\"snake is see\")\n",
    "        \n",
    "d1=Dog()\n",
    "d1.bark()\n",
    "\n",
    "d2=Cat()\n",
    "d2.sleep()\n",
    "\n",
    "d3=Snake()\n",
    "d3.see()\n"
   ]
  },
  {
   "cell_type": "code",
   "execution_count": 28,
   "id": "d5066db8",
   "metadata": {},
   "outputs": [
    {
     "name": "stdout",
     "output_type": "stream",
     "text": [
      "pet animalas re cute\n",
      "jungali ho sb\n",
      "dog is barking\n",
      "cat is sleping\n"
     ]
    }
   ],
   "source": [
    "                                #Hybride inheritance\n",
    "\n",
    "class Dog:\n",
    "    def bark(self):\n",
    "        print(\"dog is barking\")\n",
    "        \n",
    "class Cat:\n",
    "    def sleep(self):\n",
    "        print(\"cat is sleping\")\n",
    "        \n",
    "class Animal(Dog,Cat):\n",
    "    def jungali(self):\n",
    "        print(\"jungali ho sb\")\n",
    "        \n",
    "class Petanimal(Animal):\n",
    "    def pet(self):\n",
    "        print(\"pet animalas re cute\")\n",
    "        \n",
    "        \n",
    "d=Petanimal()\n",
    "d.pet()\n",
    "d.jungali()\n",
    "d.bark()\n",
    "d.sleep()"
   ]
  },
  {
   "cell_type": "code",
   "execution_count": 4,
   "id": "23fd2d47",
   "metadata": {},
   "outputs": [
    {
     "name": "stdout",
     "output_type": "stream",
     "text": [
      "rohan is bathing\n",
      "sonam is walking\n",
      "Priya is smiling\n",
      "parents are in gussa\n"
     ]
    }
   ],
   "source": [
    "                                         #Hararichacal inheritance\n",
    "\n",
    "\n",
    "class Parent():\n",
    "    def gussa(self):\n",
    "        print(\"parents are in gussa\")\n",
    "        \n",
    "class Rohan(Parent):\n",
    "    def bath(self):\n",
    "        print(\"rohan is bathing\")\n",
    "        \n",
    "class Priya(Parent):\n",
    "     def smile(self):\n",
    "            print(\"Priya is smiling\")\n",
    "        \n",
    "class sonam(Parent):\n",
    "    def walk(self):\n",
    "        print(\"sonam is walking\")\n",
    "        \n",
    "d=Rohan()\n",
    "d.bath()\n",
    "\n",
    "d=sonam()\n",
    "d.walk()\n",
    "        \n",
    "d=Priya()\n",
    "d.smile()\n",
    "\n",
    "d=Parent()\n",
    "d.gussa()"
   ]
  },
  {
   "cell_type": "code",
   "execution_count": null,
   "id": "64169c7c",
   "metadata": {},
   "outputs": [],
   "source": []
  }
 ],
 "metadata": {
  "kernelspec": {
   "display_name": "Python 3 (ipykernel)",
   "language": "python",
   "name": "python3"
  },
  "language_info": {
   "codemirror_mode": {
    "name": "ipython",
    "version": 3
   },
   "file_extension": ".py",
   "mimetype": "text/x-python",
   "name": "python",
   "nbconvert_exporter": "python",
   "pygments_lexer": "ipython3",
   "version": "3.10.9"
  }
 },
 "nbformat": 4,
 "nbformat_minor": 5
}
