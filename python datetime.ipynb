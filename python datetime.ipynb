{
 "cells": [
  {
   "cell_type": "code",
   "execution_count": 2,
   "id": "96c64304",
   "metadata": {},
   "outputs": [
    {
     "name": "stdout",
     "output_type": "stream",
     "text": [
      "2020-05-12 00:00:00\n"
     ]
    }
   ],
   "source": [
    "import datetime\n",
    "x=datetime.datetime(2020,5,12)\n",
    "print(x)"
   ]
  },
  {
   "cell_type": "code",
   "execution_count": 3,
   "id": "754edc8c",
   "metadata": {},
   "outputs": [
    {
     "name": "stdout",
     "output_type": "stream",
     "text": [
      "2023-07-22 18:33:57.527142\n"
     ]
    }
   ],
   "source": [
    "import datetime\n",
    "x=datetime.datetime.now()    #to identify time\n",
    "print(x)                   "
   ]
  },
  {
   "cell_type": "code",
   "execution_count": 9,
   "id": "71ce32ee",
   "metadata": {},
   "outputs": [
    {
     "name": "stdout",
     "output_type": "stream",
     "text": [
      "2023\n",
      "7\n",
      "2023-07-22 18:42:34.482310\n",
      "Saturday\n"
     ]
    }
   ],
   "source": [
    "import datetime\n",
    "x=datetime.datetime.now()\n",
    "print(x.year)\n",
    "print(x.month)\n",
    "print(x.now())           #to identify time\n",
    "print(x.strftime(\"%A\"))    #to identify day"
   ]
  },
  {
   "cell_type": "code",
   "execution_count": 11,
   "id": "4351f3d9",
   "metadata": {},
   "outputs": [
    {
     "name": "stdout",
     "output_type": "stream",
     "text": [
      "2020-04-14 00:00:00\n"
     ]
    }
   ],
   "source": [
    "        #contructor if datetime\n",
    "\n",
    "import datetime\n",
    "x=datetime.datetime(2020,4,14)\n",
    "print(x)"
   ]
  },
  {
   "cell_type": "code",
   "execution_count": 16,
   "id": "112dd4b3",
   "metadata": {},
   "outputs": [
    {
     "name": "stdout",
     "output_type": "stream",
     "text": [
      "Tue\n",
      "Tuesday\n",
      "Apr\n",
      "April\n",
      "2\n",
      "17\n",
      "2018\n"
     ]
    }
   ],
   "source": [
    "import datetime\n",
    "x=datetime.datetime(2018,4,17)\n",
    "print(x.strftime(\"%a\"))\n",
    "print(x.strftime(\"%A\"))\n",
    "print(x.strftime(\"%b\"))\n",
    "print(x.strftime(\"%B\"))\n",
    "print(x.strftime(\"%w\"))\n",
    "print(x.strftime(\"%d\"))\n",
    "print(x.strftime(\"%Y\"))"
   ]
  },
  {
   "cell_type": "code",
   "execution_count": null,
   "id": "58d0913d",
   "metadata": {},
   "outputs": [],
   "source": []
  }
 ],
 "metadata": {
  "kernelspec": {
   "display_name": "Python 3 (ipykernel)",
   "language": "python",
   "name": "python3"
  },
  "language_info": {
   "codemirror_mode": {
    "name": "ipython",
    "version": 3
   },
   "file_extension": ".py",
   "mimetype": "text/x-python",
   "name": "python",
   "nbconvert_exporter": "python",
   "pygments_lexer": "ipython3",
   "version": "3.10.9"
  }
 },
 "nbformat": 4,
 "nbformat_minor": 5
}
